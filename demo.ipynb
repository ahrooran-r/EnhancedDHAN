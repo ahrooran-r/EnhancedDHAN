{
 "cells": [
  {
   "cell_type": "code",
   "execution_count": 1,
   "metadata": {},
   "outputs": [
    {
     "name": "stdout",
     "output_type": "stream",
     "text": [
      "WARNING:tensorflow:\n",
      "The TensorFlow contrib module will not be included in TensorFlow 2.0.\n",
      "For more information, please see:\n",
      "  * https://github.com/tensorflow/community/blob/master/rfcs/20180907-contrib-sunset.md\n",
      "  * https://github.com/tensorflow/addons\n",
      "  * https://github.com/tensorflow/io (for I/O related ops)\n",
      "If you depend on functionality not listed there, please file an issue.\n",
      "\n"
     ]
    }
   ],
   "source": [
    "from __future__ import division\n",
    "\n",
    "import pathlib\n",
    "%matplotlib inline\n",
    "\n",
    "\n",
    "# ignore warning\n",
    "import warnings\n",
    "warnings.filterwarnings('ignore')\n",
    "\n",
    "import os, cv2\n",
    "import tensorflow as tf\n",
    "import numpy as np\n",
    "from networks import build_aggasatt_joint"
   ]
  },
  {
   "cell_type": "code",
   "execution_count": 2,
   "metadata": {
    "pycharm": {
     "name": "#%%\n"
    }
   },
   "outputs": [],
   "source": [
    "# tf.config.experimental.set_visible_devices([], 'GPU')"
   ]
  },
  {
   "cell_type": "code",
   "execution_count": 3,
   "metadata": {
    "pycharm": {
     "name": "#%%\n"
    }
   },
   "outputs": [],
   "source": [
    "vgg19_path = './Models/imagenet-vgg-verydeep-19.mat'\n",
    "pretrain_model_path = './Models/istd-pretrained/'\n",
    "\n",
    "# original = \"./original\"\n",
    "# source = \"./source/\"\n",
    "# target = \"./target/\"\n",
    "\n",
    "original = \"./test/\"\n",
    "source = \"./source/\"\n",
    "target = \"./target/\"\n",
    "\n",
    "channel = 32"
   ]
  },
  {
   "cell_type": "code",
   "execution_count": 4,
   "metadata": {
    "pycharm": {
     "name": "#%%\n"
    }
   },
   "outputs": [
    {
     "name": "stdout",
     "output_type": "stream",
     "text": [
      "WARNING:tensorflow:From C:\\Users\\MSIUSE~1\\AppData\\Local\\Temp/ipykernel_272/1666135129.py:1: The name tf.variable_scope is deprecated. Please use tf.compat.v1.variable_scope instead.\n",
      "\n",
      "WARNING:tensorflow:From C:\\Users\\MSIUSE~1\\AppData\\Local\\Temp/ipykernel_272/1666135129.py:1: The name tf.get_variable_scope is deprecated. Please use tf.compat.v1.get_variable_scope instead.\n",
      "\n",
      "WARNING:tensorflow:From C:\\Users\\MSIUSE~1\\AppData\\Local\\Temp/ipykernel_272/1666135129.py:2: The name tf.placeholder is deprecated. Please use tf.compat.v1.placeholder instead.\n",
      "\n",
      "[i] Hypercolumn ON, building hypercolumn features ... \n",
      "WARNING:tensorflow:From E:\\Semester 7 - Moodle 2021\\FYP\\projects\\DHAN\\networks.py:36: The name tf.nn.avg_pool is deprecated. Please use tf.nn.avg_pool2d instead.\n",
      "\n",
      "WARNING:tensorflow:From E:\\Semester 7 - Moodle 2021\\FYP\\projects\\DHAN\\networks.py:159: The name tf.image.resize_bilinear is deprecated. Please use tf.compat.v1.image.resize_bilinear instead.\n",
      "\n",
      "WARNING:tensorflow:From E:\\OpenSoftware\\miniconda\\envs\\shadow_synthesis\\lib\\site-packages\\tensorflow_core\\contrib\\layers\\python\\layers\\layers.py:1057: Layer.apply (from tensorflow.python.keras.engine.base_layer) is deprecated and will be removed in a future version.\n",
      "Instructions for updating:\n",
      "Please use `layer.__call__` method instead.\n",
      "WARNING:tensorflow:From E:\\Semester 7 - Moodle 2021\\FYP\\projects\\DHAN\\networks.py:71: dense (from tensorflow.python.layers.core) is deprecated and will be removed in a future version.\n",
      "Instructions for updating:\n",
      "Use keras.layers.Dense instead.\n",
      "WARNING:tensorflow:From E:\\Semester 7 - Moodle 2021\\FYP\\projects\\DHAN\\networks.py:118: average_pooling2d (from tensorflow.python.layers.pooling) is deprecated and will be removed in a future version.\n",
      "Instructions for updating:\n",
      "Use keras.layers.AveragePooling2D instead.\n",
      "WARNING:tensorflow:From C:\\Users\\MSIUSE~1\\AppData\\Local\\Temp/ipykernel_272/1666135129.py:5: The name tf.Session is deprecated. Please use tf.compat.v1.Session instead.\n",
      "\n",
      "WARNING:tensorflow:From C:\\Users\\MSIUSE~1\\AppData\\Local\\Temp/ipykernel_272/1666135129.py:6: The name tf.global_variables_initializer is deprecated. Please use tf.compat.v1.global_variables_initializer instead.\n",
      "\n",
      "WARNING:tensorflow:From C:\\Users\\MSIUSE~1\\AppData\\Local\\Temp/ipykernel_272/1666135129.py:8: The name tf.train.Saver is deprecated. Please use tf.compat.v1.train.Saver instead.\n",
      "\n",
      "WARNING:tensorflow:From C:\\Users\\MSIUSE~1\\AppData\\Local\\Temp/ipykernel_272/1666135129.py:8: The name tf.trainable_variables is deprecated. Please use tf.compat.v1.trainable_variables instead.\n",
      "\n",
      "loaded ./Models/istd-pretrained/lasted_model.ckpt\n",
      "INFO:tensorflow:Restoring parameters from ./Models/istd-pretrained/lasted_model.ckpt\n"
     ]
    }
   ],
   "source": [
    "with tf.variable_scope(tf.get_variable_scope()):\n",
    "    input=tf.placeholder(tf.float32,shape=[None,None,None,3])\n",
    "    shadow_free_image=build_aggasatt_joint(input,channel,vgg19_path)\n",
    "\n",
    "sess=tf.Session()\n",
    "sess.run(tf.global_variables_initializer())\n",
    "idtd_ckpt=tf.train.get_checkpoint_state(pretrain_model_path)\n",
    "saver_restore=tf.train.Saver([var for var in tf.trainable_variables()])\n",
    "print('loaded '+ idtd_ckpt.model_checkpoint_path)\n",
    "saver_restore.restore(sess,idtd_ckpt.model_checkpoint_path)"
   ]
  },
  {
   "cell_type": "code",
   "execution_count": 5,
   "metadata": {},
   "outputs": [
    {
     "name": "stdout",
     "output_type": "stream",
     "text": [
      "['./test/173.jpg']\n"
     ]
    }
   ],
   "source": [
    "import matplotlib.pyplot as plt\n",
    "plt.rcParams[\"figure.figsize\"] = (24,6)\n",
    "\n",
    "imgs = [os.path.join(original,x) for x in os.listdir(original) if '.jpg' in x or '.png' in x]\n",
    "\n",
    "print(imgs)"
   ]
  },
  {
   "cell_type": "code",
   "execution_count": 6,
   "metadata": {
    "pycharm": {
     "name": "#%%\n"
    }
   },
   "outputs": [
    {
     "name": "stdout",
     "output_type": "stream",
     "text": [
      "Width = 580, Height = 435\n"
     ]
    },
    {
     "ename": "ResourceExhaustedError",
     "evalue": "2 root error(s) found.\n  (0) Resource exhausted: OOM when allocating tensor with shape[1,435,580,1475] and type float on /job:localhost/replica:0/task:0/device:GPU:0 by allocator GPU_0_bfc\n\t [[node concat_4 (defined at E:\\OpenSoftware\\miniconda\\envs\\shadow_synthesis\\lib\\site-packages\\tensorflow_core\\python\\framework\\ops.py:1748) ]]\nHint: If you want to see a list of allocated tensors when OOM happens, add report_tensor_allocations_upon_oom to RunOptions for current allocation info.\n\n  (1) Resource exhausted: OOM when allocating tensor with shape[1,435,580,1475] and type float on /job:localhost/replica:0/task:0/device:GPU:0 by allocator GPU_0_bfc\n\t [[node concat_4 (defined at E:\\OpenSoftware\\miniconda\\envs\\shadow_synthesis\\lib\\site-packages\\tensorflow_core\\python\\framework\\ops.py:1748) ]]\nHint: If you want to see a list of allocated tensors when OOM happens, add report_tensor_allocations_upon_oom to RunOptions for current allocation info.\n\n\t [[g_conv_img/BiasAdd/_415]]\nHint: If you want to see a list of allocated tensors when OOM happens, add report_tensor_allocations_upon_oom to RunOptions for current allocation info.\n\n0 successful operations.\n0 derived errors ignored.\n\nOriginal stack trace for 'concat_4':\n  File \"E:\\OpenSoftware\\miniconda\\envs\\shadow_synthesis\\lib\\runpy.py\", line 193, in _run_module_as_main\n    \"__main__\", mod_spec)\n  File \"E:\\OpenSoftware\\miniconda\\envs\\shadow_synthesis\\lib\\runpy.py\", line 85, in _run_code\n    exec(code, run_globals)\n  File \"E:\\OpenSoftware\\miniconda\\envs\\shadow_synthesis\\lib\\site-packages\\ipykernel_launcher.py\", line 16, in <module>\n    app.launch_new_instance()\n  File \"E:\\OpenSoftware\\miniconda\\envs\\shadow_synthesis\\lib\\site-packages\\traitlets\\config\\application.py\", line 845, in launch_instance\n    app.start()\n  File \"E:\\OpenSoftware\\miniconda\\envs\\shadow_synthesis\\lib\\site-packages\\ipykernel\\kernelapp.py\", line 667, in start\n    self.io_loop.start()\n  File \"E:\\OpenSoftware\\miniconda\\envs\\shadow_synthesis\\lib\\site-packages\\tornado\\platform\\asyncio.py\", line 199, in start\n    self.asyncio_loop.run_forever()\n  File \"E:\\OpenSoftware\\miniconda\\envs\\shadow_synthesis\\lib\\asyncio\\base_events.py\", line 541, in run_forever\n    self._run_once()\n  File \"E:\\OpenSoftware\\miniconda\\envs\\shadow_synthesis\\lib\\asyncio\\base_events.py\", line 1786, in _run_once\n    handle._run()\n  File \"E:\\OpenSoftware\\miniconda\\envs\\shadow_synthesis\\lib\\asyncio\\events.py\", line 88, in _run\n    self._context.run(self._callback, *self._args)\n  File \"E:\\OpenSoftware\\miniconda\\envs\\shadow_synthesis\\lib\\site-packages\\ipykernel\\kernelbase.py\", line 457, in dispatch_queue\n    await self.process_one()\n  File \"E:\\OpenSoftware\\miniconda\\envs\\shadow_synthesis\\lib\\site-packages\\ipykernel\\kernelbase.py\", line 446, in process_one\n    await dispatch(*args)\n  File \"E:\\OpenSoftware\\miniconda\\envs\\shadow_synthesis\\lib\\site-packages\\ipykernel\\kernelbase.py\", line 353, in dispatch_shell\n    await result\n  File \"E:\\OpenSoftware\\miniconda\\envs\\shadow_synthesis\\lib\\site-packages\\ipykernel\\kernelbase.py\", line 648, in execute_request\n    reply_content = await reply_content\n  File \"E:\\OpenSoftware\\miniconda\\envs\\shadow_synthesis\\lib\\site-packages\\ipykernel\\ipkernel.py\", line 345, in do_execute\n    res = shell.run_cell(code, store_history=store_history, silent=silent)\n  File \"E:\\OpenSoftware\\miniconda\\envs\\shadow_synthesis\\lib\\site-packages\\ipykernel\\zmqshell.py\", line 532, in run_cell\n    return super(ZMQInteractiveShell, self).run_cell(*args, **kwargs)\n  File \"E:\\OpenSoftware\\miniconda\\envs\\shadow_synthesis\\lib\\site-packages\\IPython\\core\\interactiveshell.py\", line 2899, in run_cell\n    raw_cell, store_history, silent, shell_futures)\n  File \"E:\\OpenSoftware\\miniconda\\envs\\shadow_synthesis\\lib\\site-packages\\IPython\\core\\interactiveshell.py\", line 2944, in _run_cell\n    return runner(coro)\n  File \"E:\\OpenSoftware\\miniconda\\envs\\shadow_synthesis\\lib\\site-packages\\IPython\\core\\async_helpers.py\", line 68, in _pseudo_sync_runner\n    coro.send(None)\n  File \"E:\\OpenSoftware\\miniconda\\envs\\shadow_synthesis\\lib\\site-packages\\IPython\\core\\interactiveshell.py\", line 3170, in run_cell_async\n    interactivity=interactivity, compiler=compiler, result=result)\n  File \"E:\\OpenSoftware\\miniconda\\envs\\shadow_synthesis\\lib\\site-packages\\IPython\\core\\interactiveshell.py\", line 3361, in run_ast_nodes\n    if (await self.run_code(code, result,  async_=asy)):\n  File \"E:\\OpenSoftware\\miniconda\\envs\\shadow_synthesis\\lib\\site-packages\\IPython\\core\\interactiveshell.py\", line 3441, in run_code\n    exec(code_obj, self.user_global_ns, self.user_ns)\n  File \"C:\\Users\\MSIUSE~1\\AppData\\Local\\Temp/ipykernel_272/1666135129.py\", line 3, in <module>\n    shadow_free_image=build_aggasatt_joint(input,channel,vgg19_path)\n  File \"E:\\Semester 7 - Moodle 2021\\FYP\\projects\\DHAN\\networks.py\", line 160, in build_aggasatt_joint\n    axis=3)\n  File \"E:\\OpenSoftware\\miniconda\\envs\\shadow_synthesis\\lib\\site-packages\\tensorflow_core\\python\\util\\dispatch.py\", line 180, in wrapper\n    return target(*args, **kwargs)\n  File \"E:\\OpenSoftware\\miniconda\\envs\\shadow_synthesis\\lib\\site-packages\\tensorflow_core\\python\\ops\\array_ops.py\", line 1420, in concat\n    return gen_array_ops.concat_v2(values=values, axis=axis, name=name)\n  File \"E:\\OpenSoftware\\miniconda\\envs\\shadow_synthesis\\lib\\site-packages\\tensorflow_core\\python\\ops\\gen_array_ops.py\", line 1257, in concat_v2\n    \"ConcatV2\", values=values, axis=axis, name=name)\n  File \"E:\\OpenSoftware\\miniconda\\envs\\shadow_synthesis\\lib\\site-packages\\tensorflow_core\\python\\framework\\op_def_library.py\", line 794, in _apply_op_helper\n    op_def=op_def)\n  File \"E:\\OpenSoftware\\miniconda\\envs\\shadow_synthesis\\lib\\site-packages\\tensorflow_core\\python\\util\\deprecation.py\", line 507, in new_func\n    return func(*args, **kwargs)\n  File \"E:\\OpenSoftware\\miniconda\\envs\\shadow_synthesis\\lib\\site-packages\\tensorflow_core\\python\\framework\\ops.py\", line 3357, in create_op\n    attrs, op_def, compute_device)\n  File \"E:\\OpenSoftware\\miniconda\\envs\\shadow_synthesis\\lib\\site-packages\\tensorflow_core\\python\\framework\\ops.py\", line 3426, in _create_op_internal\n    op_def=op_def)\n  File \"E:\\OpenSoftware\\miniconda\\envs\\shadow_synthesis\\lib\\site-packages\\tensorflow_core\\python\\framework\\ops.py\", line 1748, in __init__\n    self._traceback = tf_stack.extract_stack()\n",
     "output_type": "error",
     "traceback": [
      "\u001B[1;31m---------------------------------------------------------------------------\u001B[0m",
      "\u001B[1;31mResourceExhaustedError\u001B[0m                    Traceback (most recent call last)",
      "\u001B[1;32mE:\\OpenSoftware\\miniconda\\envs\\shadow_synthesis\\lib\\site-packages\\tensorflow_core\\python\\client\\session.py\u001B[0m in \u001B[0;36m_do_call\u001B[1;34m(self, fn, *args)\u001B[0m\n\u001B[0;32m   1364\u001B[0m     \u001B[1;32mtry\u001B[0m\u001B[1;33m:\u001B[0m\u001B[1;33m\u001B[0m\u001B[1;33m\u001B[0m\u001B[0m\n\u001B[1;32m-> 1365\u001B[1;33m       \u001B[1;32mreturn\u001B[0m \u001B[0mfn\u001B[0m\u001B[1;33m(\u001B[0m\u001B[1;33m*\u001B[0m\u001B[0margs\u001B[0m\u001B[1;33m)\u001B[0m\u001B[1;33m\u001B[0m\u001B[1;33m\u001B[0m\u001B[0m\n\u001B[0m\u001B[0;32m   1366\u001B[0m     \u001B[1;32mexcept\u001B[0m \u001B[0merrors\u001B[0m\u001B[1;33m.\u001B[0m\u001B[0mOpError\u001B[0m \u001B[1;32mas\u001B[0m \u001B[0me\u001B[0m\u001B[1;33m:\u001B[0m\u001B[1;33m\u001B[0m\u001B[1;33m\u001B[0m\u001B[0m\n",
      "\u001B[1;32mE:\\OpenSoftware\\miniconda\\envs\\shadow_synthesis\\lib\\site-packages\\tensorflow_core\\python\\client\\session.py\u001B[0m in \u001B[0;36m_run_fn\u001B[1;34m(feed_dict, fetch_list, target_list, options, run_metadata)\u001B[0m\n\u001B[0;32m   1349\u001B[0m       return self._call_tf_sessionrun(options, feed_dict, fetch_list,\n\u001B[1;32m-> 1350\u001B[1;33m                                       target_list, run_metadata)\n\u001B[0m\u001B[0;32m   1351\u001B[0m \u001B[1;33m\u001B[0m\u001B[0m\n",
      "\u001B[1;32mE:\\OpenSoftware\\miniconda\\envs\\shadow_synthesis\\lib\\site-packages\\tensorflow_core\\python\\client\\session.py\u001B[0m in \u001B[0;36m_call_tf_sessionrun\u001B[1;34m(self, options, feed_dict, fetch_list, target_list, run_metadata)\u001B[0m\n\u001B[0;32m   1442\u001B[0m                                             \u001B[0mfetch_list\u001B[0m\u001B[1;33m,\u001B[0m \u001B[0mtarget_list\u001B[0m\u001B[1;33m,\u001B[0m\u001B[1;33m\u001B[0m\u001B[1;33m\u001B[0m\u001B[0m\n\u001B[1;32m-> 1443\u001B[1;33m                                             run_metadata)\n\u001B[0m\u001B[0;32m   1444\u001B[0m \u001B[1;33m\u001B[0m\u001B[0m\n",
      "\u001B[1;31mResourceExhaustedError\u001B[0m: 2 root error(s) found.\n  (0) Resource exhausted: OOM when allocating tensor with shape[1,435,580,1475] and type float on /job:localhost/replica:0/task:0/device:GPU:0 by allocator GPU_0_bfc\n\t [[{{node concat_4}}]]\nHint: If you want to see a list of allocated tensors when OOM happens, add report_tensor_allocations_upon_oom to RunOptions for current allocation info.\n\n  (1) Resource exhausted: OOM when allocating tensor with shape[1,435,580,1475] and type float on /job:localhost/replica:0/task:0/device:GPU:0 by allocator GPU_0_bfc\n\t [[{{node concat_4}}]]\nHint: If you want to see a list of allocated tensors when OOM happens, add report_tensor_allocations_upon_oom to RunOptions for current allocation info.\n\n\t [[g_conv_img/BiasAdd/_415]]\nHint: If you want to see a list of allocated tensors when OOM happens, add report_tensor_allocations_upon_oom to RunOptions for current allocation info.\n\n0 successful operations.\n0 derived errors ignored.",
      "\nDuring handling of the above exception, another exception occurred:\n",
      "\u001B[1;31mResourceExhaustedError\u001B[0m                    Traceback (most recent call last)",
      "\u001B[1;32mC:\\Users\\MSIUSE~1\\AppData\\Local\\Temp/ipykernel_272/2025036586.py\u001B[0m in \u001B[0;36m<module>\u001B[1;34m\u001B[0m\n\u001B[0;32m      9\u001B[0m     \u001B[1;31m# iminput = cv2.resize(cv2.imread(img_path, 1), (1920, 1440))\u001B[0m\u001B[1;33m\u001B[0m\u001B[1;33m\u001B[0m\u001B[1;33m\u001B[0m\u001B[0m\n\u001B[0;32m     10\u001B[0m \u001B[1;33m\u001B[0m\u001B[0m\n\u001B[1;32m---> 11\u001B[1;33m     \u001B[0mimoutput\u001B[0m \u001B[1;33m=\u001B[0m \u001B[0msess\u001B[0m\u001B[1;33m.\u001B[0m\u001B[0mrun\u001B[0m\u001B[1;33m(\u001B[0m\u001B[0mshadow_free_image\u001B[0m\u001B[1;33m,\u001B[0m\u001B[0mfeed_dict\u001B[0m\u001B[1;33m=\u001B[0m\u001B[1;33m{\u001B[0m\u001B[0minput\u001B[0m\u001B[1;33m:\u001B[0m\u001B[0mnp\u001B[0m\u001B[1;33m.\u001B[0m\u001B[0mexpand_dims\u001B[0m\u001B[1;33m(\u001B[0m\u001B[0miminput\u001B[0m\u001B[1;33m/\u001B[0m\u001B[1;36m255.\u001B[0m\u001B[1;33m,\u001B[0m\u001B[0maxis\u001B[0m\u001B[1;33m=\u001B[0m\u001B[1;36m0\u001B[0m\u001B[1;33m)\u001B[0m\u001B[1;33m}\u001B[0m\u001B[1;33m)\u001B[0m\u001B[1;33m\u001B[0m\u001B[1;33m\u001B[0m\u001B[0m\n\u001B[0m\u001B[0;32m     12\u001B[0m     \u001B[0mimoutput\u001B[0m \u001B[1;33m=\u001B[0m \u001B[0mnp\u001B[0m\u001B[1;33m.\u001B[0m\u001B[0muint8\u001B[0m\u001B[1;33m(\u001B[0m\u001B[0mnp\u001B[0m\u001B[1;33m.\u001B[0m\u001B[0msqueeze\u001B[0m\u001B[1;33m(\u001B[0m\u001B[0mnp\u001B[0m\u001B[1;33m.\u001B[0m\u001B[0mminimum\u001B[0m\u001B[1;33m(\u001B[0m\u001B[0mnp\u001B[0m\u001B[1;33m.\u001B[0m\u001B[0mmaximum\u001B[0m\u001B[1;33m(\u001B[0m\u001B[0mimoutput\u001B[0m\u001B[1;33m[\u001B[0m\u001B[1;36m0\u001B[0m\u001B[1;33m]\u001B[0m\u001B[1;33m,\u001B[0m\u001B[1;36m0.0\u001B[0m\u001B[1;33m)\u001B[0m\u001B[1;33m,\u001B[0m\u001B[1;36m1.0\u001B[0m\u001B[1;33m)\u001B[0m\u001B[1;33m)\u001B[0m\u001B[1;33m*\u001B[0m\u001B[1;36m255.0\u001B[0m\u001B[1;33m)\u001B[0m\u001B[1;33m\u001B[0m\u001B[1;33m\u001B[0m\u001B[0m\n\u001B[0;32m     13\u001B[0m \u001B[1;33m\u001B[0m\u001B[0m\n",
      "\u001B[1;32mE:\\OpenSoftware\\miniconda\\envs\\shadow_synthesis\\lib\\site-packages\\tensorflow_core\\python\\client\\session.py\u001B[0m in \u001B[0;36mrun\u001B[1;34m(self, fetches, feed_dict, options, run_metadata)\u001B[0m\n\u001B[0;32m    954\u001B[0m     \u001B[1;32mtry\u001B[0m\u001B[1;33m:\u001B[0m\u001B[1;33m\u001B[0m\u001B[1;33m\u001B[0m\u001B[0m\n\u001B[0;32m    955\u001B[0m       result = self._run(None, fetches, feed_dict, options_ptr,\n\u001B[1;32m--> 956\u001B[1;33m                          run_metadata_ptr)\n\u001B[0m\u001B[0;32m    957\u001B[0m       \u001B[1;32mif\u001B[0m \u001B[0mrun_metadata\u001B[0m\u001B[1;33m:\u001B[0m\u001B[1;33m\u001B[0m\u001B[1;33m\u001B[0m\u001B[0m\n\u001B[0;32m    958\u001B[0m         \u001B[0mproto_data\u001B[0m \u001B[1;33m=\u001B[0m \u001B[0mtf_session\u001B[0m\u001B[1;33m.\u001B[0m\u001B[0mTF_GetBuffer\u001B[0m\u001B[1;33m(\u001B[0m\u001B[0mrun_metadata_ptr\u001B[0m\u001B[1;33m)\u001B[0m\u001B[1;33m\u001B[0m\u001B[1;33m\u001B[0m\u001B[0m\n",
      "\u001B[1;32mE:\\OpenSoftware\\miniconda\\envs\\shadow_synthesis\\lib\\site-packages\\tensorflow_core\\python\\client\\session.py\u001B[0m in \u001B[0;36m_run\u001B[1;34m(self, handle, fetches, feed_dict, options, run_metadata)\u001B[0m\n\u001B[0;32m   1178\u001B[0m     \u001B[1;32mif\u001B[0m \u001B[0mfinal_fetches\u001B[0m \u001B[1;32mor\u001B[0m \u001B[0mfinal_targets\u001B[0m \u001B[1;32mor\u001B[0m \u001B[1;33m(\u001B[0m\u001B[0mhandle\u001B[0m \u001B[1;32mand\u001B[0m \u001B[0mfeed_dict_tensor\u001B[0m\u001B[1;33m)\u001B[0m\u001B[1;33m:\u001B[0m\u001B[1;33m\u001B[0m\u001B[1;33m\u001B[0m\u001B[0m\n\u001B[0;32m   1179\u001B[0m       results = self._do_run(handle, final_targets, final_fetches,\n\u001B[1;32m-> 1180\u001B[1;33m                              feed_dict_tensor, options, run_metadata)\n\u001B[0m\u001B[0;32m   1181\u001B[0m     \u001B[1;32melse\u001B[0m\u001B[1;33m:\u001B[0m\u001B[1;33m\u001B[0m\u001B[1;33m\u001B[0m\u001B[0m\n\u001B[0;32m   1182\u001B[0m       \u001B[0mresults\u001B[0m \u001B[1;33m=\u001B[0m \u001B[1;33m[\u001B[0m\u001B[1;33m]\u001B[0m\u001B[1;33m\u001B[0m\u001B[1;33m\u001B[0m\u001B[0m\n",
      "\u001B[1;32mE:\\OpenSoftware\\miniconda\\envs\\shadow_synthesis\\lib\\site-packages\\tensorflow_core\\python\\client\\session.py\u001B[0m in \u001B[0;36m_do_run\u001B[1;34m(self, handle, target_list, fetch_list, feed_dict, options, run_metadata)\u001B[0m\n\u001B[0;32m   1357\u001B[0m     \u001B[1;32mif\u001B[0m \u001B[0mhandle\u001B[0m \u001B[1;32mis\u001B[0m \u001B[1;32mNone\u001B[0m\u001B[1;33m:\u001B[0m\u001B[1;33m\u001B[0m\u001B[1;33m\u001B[0m\u001B[0m\n\u001B[0;32m   1358\u001B[0m       return self._do_call(_run_fn, feeds, fetches, targets, options,\n\u001B[1;32m-> 1359\u001B[1;33m                            run_metadata)\n\u001B[0m\u001B[0;32m   1360\u001B[0m     \u001B[1;32melse\u001B[0m\u001B[1;33m:\u001B[0m\u001B[1;33m\u001B[0m\u001B[1;33m\u001B[0m\u001B[0m\n\u001B[0;32m   1361\u001B[0m       \u001B[1;32mreturn\u001B[0m \u001B[0mself\u001B[0m\u001B[1;33m.\u001B[0m\u001B[0m_do_call\u001B[0m\u001B[1;33m(\u001B[0m\u001B[0m_prun_fn\u001B[0m\u001B[1;33m,\u001B[0m \u001B[0mhandle\u001B[0m\u001B[1;33m,\u001B[0m \u001B[0mfeeds\u001B[0m\u001B[1;33m,\u001B[0m \u001B[0mfetches\u001B[0m\u001B[1;33m)\u001B[0m\u001B[1;33m\u001B[0m\u001B[1;33m\u001B[0m\u001B[0m\n",
      "\u001B[1;32mE:\\OpenSoftware\\miniconda\\envs\\shadow_synthesis\\lib\\site-packages\\tensorflow_core\\python\\client\\session.py\u001B[0m in \u001B[0;36m_do_call\u001B[1;34m(self, fn, *args)\u001B[0m\n\u001B[0;32m   1382\u001B[0m                     \u001B[1;34m'\\nsession_config.graph_options.rewrite_options.'\u001B[0m\u001B[1;33m\u001B[0m\u001B[1;33m\u001B[0m\u001B[0m\n\u001B[0;32m   1383\u001B[0m                     'disable_meta_optimizer = True')\n\u001B[1;32m-> 1384\u001B[1;33m       \u001B[1;32mraise\u001B[0m \u001B[0mtype\u001B[0m\u001B[1;33m(\u001B[0m\u001B[0me\u001B[0m\u001B[1;33m)\u001B[0m\u001B[1;33m(\u001B[0m\u001B[0mnode_def\u001B[0m\u001B[1;33m,\u001B[0m \u001B[0mop\u001B[0m\u001B[1;33m,\u001B[0m \u001B[0mmessage\u001B[0m\u001B[1;33m)\u001B[0m\u001B[1;33m\u001B[0m\u001B[1;33m\u001B[0m\u001B[0m\n\u001B[0m\u001B[0;32m   1385\u001B[0m \u001B[1;33m\u001B[0m\u001B[0m\n\u001B[0;32m   1386\u001B[0m   \u001B[1;32mdef\u001B[0m \u001B[0m_extend_graph\u001B[0m\u001B[1;33m(\u001B[0m\u001B[0mself\u001B[0m\u001B[1;33m)\u001B[0m\u001B[1;33m:\u001B[0m\u001B[1;33m\u001B[0m\u001B[1;33m\u001B[0m\u001B[0m\n",
      "\u001B[1;31mResourceExhaustedError\u001B[0m: 2 root error(s) found.\n  (0) Resource exhausted: OOM when allocating tensor with shape[1,435,580,1475] and type float on /job:localhost/replica:0/task:0/device:GPU:0 by allocator GPU_0_bfc\n\t [[node concat_4 (defined at E:\\OpenSoftware\\miniconda\\envs\\shadow_synthesis\\lib\\site-packages\\tensorflow_core\\python\\framework\\ops.py:1748) ]]\nHint: If you want to see a list of allocated tensors when OOM happens, add report_tensor_allocations_upon_oom to RunOptions for current allocation info.\n\n  (1) Resource exhausted: OOM when allocating tensor with shape[1,435,580,1475] and type float on /job:localhost/replica:0/task:0/device:GPU:0 by allocator GPU_0_bfc\n\t [[node concat_4 (defined at E:\\OpenSoftware\\miniconda\\envs\\shadow_synthesis\\lib\\site-packages\\tensorflow_core\\python\\framework\\ops.py:1748) ]]\nHint: If you want to see a list of allocated tensors when OOM happens, add report_tensor_allocations_upon_oom to RunOptions for current allocation info.\n\n\t [[g_conv_img/BiasAdd/_415]]\nHint: If you want to see a list of allocated tensors when OOM happens, add report_tensor_allocations_upon_oom to RunOptions for current allocation info.\n\n0 successful operations.\n0 derived errors ignored.\n\nOriginal stack trace for 'concat_4':\n  File \"E:\\OpenSoftware\\miniconda\\envs\\shadow_synthesis\\lib\\runpy.py\", line 193, in _run_module_as_main\n    \"__main__\", mod_spec)\n  File \"E:\\OpenSoftware\\miniconda\\envs\\shadow_synthesis\\lib\\runpy.py\", line 85, in _run_code\n    exec(code, run_globals)\n  File \"E:\\OpenSoftware\\miniconda\\envs\\shadow_synthesis\\lib\\site-packages\\ipykernel_launcher.py\", line 16, in <module>\n    app.launch_new_instance()\n  File \"E:\\OpenSoftware\\miniconda\\envs\\shadow_synthesis\\lib\\site-packages\\traitlets\\config\\application.py\", line 845, in launch_instance\n    app.start()\n  File \"E:\\OpenSoftware\\miniconda\\envs\\shadow_synthesis\\lib\\site-packages\\ipykernel\\kernelapp.py\", line 667, in start\n    self.io_loop.start()\n  File \"E:\\OpenSoftware\\miniconda\\envs\\shadow_synthesis\\lib\\site-packages\\tornado\\platform\\asyncio.py\", line 199, in start\n    self.asyncio_loop.run_forever()\n  File \"E:\\OpenSoftware\\miniconda\\envs\\shadow_synthesis\\lib\\asyncio\\base_events.py\", line 541, in run_forever\n    self._run_once()\n  File \"E:\\OpenSoftware\\miniconda\\envs\\shadow_synthesis\\lib\\asyncio\\base_events.py\", line 1786, in _run_once\n    handle._run()\n  File \"E:\\OpenSoftware\\miniconda\\envs\\shadow_synthesis\\lib\\asyncio\\events.py\", line 88, in _run\n    self._context.run(self._callback, *self._args)\n  File \"E:\\OpenSoftware\\miniconda\\envs\\shadow_synthesis\\lib\\site-packages\\ipykernel\\kernelbase.py\", line 457, in dispatch_queue\n    await self.process_one()\n  File \"E:\\OpenSoftware\\miniconda\\envs\\shadow_synthesis\\lib\\site-packages\\ipykernel\\kernelbase.py\", line 446, in process_one\n    await dispatch(*args)\n  File \"E:\\OpenSoftware\\miniconda\\envs\\shadow_synthesis\\lib\\site-packages\\ipykernel\\kernelbase.py\", line 353, in dispatch_shell\n    await result\n  File \"E:\\OpenSoftware\\miniconda\\envs\\shadow_synthesis\\lib\\site-packages\\ipykernel\\kernelbase.py\", line 648, in execute_request\n    reply_content = await reply_content\n  File \"E:\\OpenSoftware\\miniconda\\envs\\shadow_synthesis\\lib\\site-packages\\ipykernel\\ipkernel.py\", line 345, in do_execute\n    res = shell.run_cell(code, store_history=store_history, silent=silent)\n  File \"E:\\OpenSoftware\\miniconda\\envs\\shadow_synthesis\\lib\\site-packages\\ipykernel\\zmqshell.py\", line 532, in run_cell\n    return super(ZMQInteractiveShell, self).run_cell(*args, **kwargs)\n  File \"E:\\OpenSoftware\\miniconda\\envs\\shadow_synthesis\\lib\\site-packages\\IPython\\core\\interactiveshell.py\", line 2899, in run_cell\n    raw_cell, store_history, silent, shell_futures)\n  File \"E:\\OpenSoftware\\miniconda\\envs\\shadow_synthesis\\lib\\site-packages\\IPython\\core\\interactiveshell.py\", line 2944, in _run_cell\n    return runner(coro)\n  File \"E:\\OpenSoftware\\miniconda\\envs\\shadow_synthesis\\lib\\site-packages\\IPython\\core\\async_helpers.py\", line 68, in _pseudo_sync_runner\n    coro.send(None)\n  File \"E:\\OpenSoftware\\miniconda\\envs\\shadow_synthesis\\lib\\site-packages\\IPython\\core\\interactiveshell.py\", line 3170, in run_cell_async\n    interactivity=interactivity, compiler=compiler, result=result)\n  File \"E:\\OpenSoftware\\miniconda\\envs\\shadow_synthesis\\lib\\site-packages\\IPython\\core\\interactiveshell.py\", line 3361, in run_ast_nodes\n    if (await self.run_code(code, result,  async_=asy)):\n  File \"E:\\OpenSoftware\\miniconda\\envs\\shadow_synthesis\\lib\\site-packages\\IPython\\core\\interactiveshell.py\", line 3441, in run_code\n    exec(code_obj, self.user_global_ns, self.user_ns)\n  File \"C:\\Users\\MSIUSE~1\\AppData\\Local\\Temp/ipykernel_272/1666135129.py\", line 3, in <module>\n    shadow_free_image=build_aggasatt_joint(input,channel,vgg19_path)\n  File \"E:\\Semester 7 - Moodle 2021\\FYP\\projects\\DHAN\\networks.py\", line 160, in build_aggasatt_joint\n    axis=3)\n  File \"E:\\OpenSoftware\\miniconda\\envs\\shadow_synthesis\\lib\\site-packages\\tensorflow_core\\python\\util\\dispatch.py\", line 180, in wrapper\n    return target(*args, **kwargs)\n  File \"E:\\OpenSoftware\\miniconda\\envs\\shadow_synthesis\\lib\\site-packages\\tensorflow_core\\python\\ops\\array_ops.py\", line 1420, in concat\n    return gen_array_ops.concat_v2(values=values, axis=axis, name=name)\n  File \"E:\\OpenSoftware\\miniconda\\envs\\shadow_synthesis\\lib\\site-packages\\tensorflow_core\\python\\ops\\gen_array_ops.py\", line 1257, in concat_v2\n    \"ConcatV2\", values=values, axis=axis, name=name)\n  File \"E:\\OpenSoftware\\miniconda\\envs\\shadow_synthesis\\lib\\site-packages\\tensorflow_core\\python\\framework\\op_def_library.py\", line 794, in _apply_op_helper\n    op_def=op_def)\n  File \"E:\\OpenSoftware\\miniconda\\envs\\shadow_synthesis\\lib\\site-packages\\tensorflow_core\\python\\util\\deprecation.py\", line 507, in new_func\n    return func(*args, **kwargs)\n  File \"E:\\OpenSoftware\\miniconda\\envs\\shadow_synthesis\\lib\\site-packages\\tensorflow_core\\python\\framework\\ops.py\", line 3357, in create_op\n    attrs, op_def, compute_device)\n  File \"E:\\OpenSoftware\\miniconda\\envs\\shadow_synthesis\\lib\\site-packages\\tensorflow_core\\python\\framework\\ops.py\", line 3426, in _create_op_internal\n    op_def=op_def)\n  File \"E:\\OpenSoftware\\miniconda\\envs\\shadow_synthesis\\lib\\site-packages\\tensorflow_core\\python\\framework\\ops.py\", line 1748, in __init__\n    self._traceback = tf_stack.extract_stack()\n"
     ]
    }
   ],
   "source": [
    "height = 432\n",
    "width = int(4 / 3 * height)\n",
    "\n",
    "print(f\"Width = {width}, Height = {height}\")\n",
    "\n",
    "for img_path in imgs:\n",
    "\n",
    "    iminput = cv2.resize(cv2.imread(img_path, 1), (width, height))\n",
    "    # iminput = cv2.resize(cv2.imread(img_path, 1), (1920, 1440))\n",
    "\n",
    "    imoutput = sess.run(shadow_free_image,feed_dict={input:np.expand_dims(iminput/255.,axis=0)})\n",
    "    imoutput = np.uint8(np.squeeze(np.minimum(np.maximum(imoutput[0],0.0),1.0))*255.0)\n",
    "\n",
    "    imname = pathlib.Path(img_path).stem\n",
    "    cv2.imwrite(os.path.join(source, f'{imname}.jpg'), iminput)\n",
    "    cv2.imwrite(os.path.join(target, f'{imname}.jpg'), imoutput)\n",
    "    cv2.waitKey(0)"
   ]
  },
  {
   "cell_type": "code",
   "execution_count": null,
   "metadata": {
    "pycharm": {
     "name": "#%%\n"
    }
   },
   "outputs": [],
   "source": [
    "print(\"success\")"
   ]
  },
  {
   "cell_type": "code",
   "execution_count": null,
   "outputs": [],
   "source": [
    "# images should be in 4:3 ratio\n",
    "# checking possible resolutions\n",
    "\n",
    "# height = 435\n",
    "# width = 4 / 3 * height\n",
    "#\n",
    "# width"
   ],
   "metadata": {
    "collapsed": false,
    "pycharm": {
     "name": "#%%\n"
    }
   }
  },
  {
   "cell_type": "code",
   "execution_count": null,
   "outputs": [],
   "source": [
    "lower = 432\n",
    "\n",
    "upper = 435\n",
    "# right now model works until height is 435\n",
    "# my task is to make it work for height = 435 and up with little to no loss to quality"
   ],
   "metadata": {
    "collapsed": false,
    "pycharm": {
     "name": "#%%\n"
    }
   }
  },
  {
   "cell_type": "code",
   "execution_count": null,
   "outputs": [],
   "source": [
    "# img_path = \"E:\\Semester 7 - Moodle 2021\\FYP\\projects\\DHAN\\Dataset\\\\NIC_Dataset\\\\train\\\\train_B\\\\1.jpg\"\n",
    "#\n",
    "# import cv2\n",
    "# import numpy as np\n",
    "#\n",
    "# ###test image\n",
    "# img=cv2.imread(img_path)\n",
    "#\n",
    "# ### splitting b,g,r channels\n",
    "# b,g,r=cv2.split(img)\n",
    "#\n",
    "# ### getting differences between (b,g), (r,g), (b,r) channel pixels\n",
    "# r_g=np.count_nonzero(abs(r-g))\n",
    "# r_b=np.count_nonzero(abs(r-b))\n",
    "# g_b=np.count_nonzero(abs(g-b))\n",
    "#\n",
    "# ### sum of differences\n",
    "# diff_sum=float(r_g+r_b+g_b)\n",
    "#\n",
    "# ### finding ratio of diff_sum with respect to size of image\n",
    "# ratio=diff_sum/img.size\n",
    "#\n",
    "# if ratio>0.005:\n",
    "#     print(\"image is color\")\n",
    "# else:\n",
    "#     print(\"image is greyscale\")\n"
   ],
   "metadata": {
    "collapsed": false,
    "pycharm": {
     "name": "#%%\n"
    }
   }
  }
 ],
 "metadata": {
  "kernelspec": {
   "display_name": "Python 3 (ipykernel)",
   "language": "python",
   "name": "python3"
  },
  "language_info": {
   "codemirror_mode": {
    "name": "ipython",
    "version": 3
   },
   "file_extension": ".py",
   "mimetype": "text/x-python",
   "name": "python",
   "nbconvert_exporter": "python",
   "pygments_lexer": "ipython3",
   "version": "3.7.11"
  }
 },
 "nbformat": 4,
 "nbformat_minor": 4
}