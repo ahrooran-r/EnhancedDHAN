{
 "cells": [
  {
   "cell_type": "code",
   "execution_count": 1,
   "metadata": {},
   "outputs": [
    {
     "name": "stdout",
     "output_type": "stream",
     "text": [
      "WARNING:tensorflow:\n",
      "The TensorFlow contrib module will not be included in TensorFlow 2.0.\n",
      "For more information, please see:\n",
      "  * https://github.com/tensorflow/community/blob/master/rfcs/20180907-contrib-sunset.md\n",
      "  * https://github.com/tensorflow/addons\n",
      "  * https://github.com/tensorflow/io (for I/O related ops)\n",
      "If you depend on functionality not listed there, please file an issue.\n",
      "\n"
     ]
    }
   ],
   "source": [
    "from __future__ import division\n",
    "\n",
    "import pathlib\n",
    "%matplotlib inline\n",
    "\n",
    "\n",
    "# ignore warning\n",
    "import warnings\n",
    "warnings.filterwarnings('ignore')\n",
    "\n",
    "import os, cv2\n",
    "import tensorflow as tf\n",
    "import numpy as np\n",
    "from networks import build_aggasatt_joint\n",
    "\n",
    "os.environ['TF_FORCE_GPU_ALLOW_GROWTH'] = 'true'"
   ]
  },
  {
   "cell_type": "code",
   "execution_count": 2,
   "metadata": {
    "pycharm": {
     "name": "#%%\n"
    }
   },
   "outputs": [],
   "source": [
    "# tf.config.experimental.set_visible_devices([], 'GPU')"
   ]
  },
  {
   "cell_type": "code",
   "execution_count": 3,
   "metadata": {
    "pycharm": {
     "name": "#%%\n"
    }
   },
   "outputs": [],
   "source": [
    "vgg19_path = './Models/imagenet-vgg-verydeep-19.mat'\n",
    "\n",
    "pretrain_model_path = './Models/istd-pretrained-original/'\n",
    "# pretrain_model_path = './Models/istd-pretrained-without-vgg19/'\n",
    "\n",
    "# pretrain_model_path = './Models/srdplus-pretrained-original/'\n",
    "\n",
    "# original = \"./original\"\n",
    "# source = \"./source/\"\n",
    "# target = \"./target/\"\n",
    "\n",
    "original = \"./test/\"\n",
    "source = \"./source/\"\n",
    "target = \"./target/\"\n",
    "\n",
    "channel = 32"
   ]
  },
  {
   "cell_type": "code",
   "execution_count": 4,
   "metadata": {
    "pycharm": {
     "name": "#%%\n"
    }
   },
   "outputs": [
    {
     "name": "stdout",
     "output_type": "stream",
     "text": [
      "WARNING:tensorflow:From C:\\Users\\msi\\AppData\\Local\\Temp/ipykernel_8524/1308873527.py:1: The name tf.variable_scope is deprecated. Please use tf.compat.v1.variable_scope instead.\n",
      "\n",
      "WARNING:tensorflow:From C:\\Users\\msi\\AppData\\Local\\Temp/ipykernel_8524/1308873527.py:1: The name tf.get_variable_scope is deprecated. Please use tf.compat.v1.get_variable_scope instead.\n",
      "\n",
      "WARNING:tensorflow:From C:\\Users\\msi\\AppData\\Local\\Temp/ipykernel_8524/1308873527.py:2: The name tf.placeholder is deprecated. Please use tf.compat.v1.placeholder instead.\n",
      "\n",
      "[i] Hypercolumn ON, building hypercolumn features ... \n",
      "WARNING:tensorflow:From E:\\FYP\\projects\\DHAN\\networks.py:36: The name tf.nn.avg_pool is deprecated. Please use tf.nn.avg_pool2d instead.\n",
      "\n",
      "WARNING:tensorflow:From E:\\FYP\\projects\\DHAN\\networks.py:160: The name tf.image.resize_bilinear is deprecated. Please use tf.compat.v1.image.resize_bilinear instead.\n",
      "\n",
      "WARNING:tensorflow:From E:\\Programs\\miniconda\\envs\\shadow_synthesis\\lib\\site-packages\\tensorflow_core\\contrib\\layers\\python\\layers\\layers.py:1057: Layer.apply (from tensorflow.python.keras.engine.base_layer) is deprecated and will be removed in a future version.\n",
      "Instructions for updating:\n",
      "Please use `layer.__call__` method instead.\n",
      "WARNING:tensorflow:From E:\\FYP\\projects\\DHAN\\networks.py:71: dense (from tensorflow.python.layers.core) is deprecated and will be removed in a future version.\n",
      "Instructions for updating:\n",
      "Use keras.layers.Dense instead.\n",
      "WARNING:tensorflow:From E:\\FYP\\projects\\DHAN\\networks.py:117: average_pooling2d (from tensorflow.python.layers.pooling) is deprecated and will be removed in a future version.\n",
      "Instructions for updating:\n",
      "Use keras.layers.AveragePooling2D instead.\n",
      "WARNING:tensorflow:From C:\\Users\\msi\\AppData\\Local\\Temp/ipykernel_8524/1308873527.py:5: The name tf.Session is deprecated. Please use tf.compat.v1.Session instead.\n",
      "\n",
      "WARNING:tensorflow:From C:\\Users\\msi\\AppData\\Local\\Temp/ipykernel_8524/1308873527.py:6: The name tf.global_variables_initializer is deprecated. Please use tf.compat.v1.global_variables_initializer instead.\n",
      "\n",
      "WARNING:tensorflow:From C:\\Users\\msi\\AppData\\Local\\Temp/ipykernel_8524/1308873527.py:8: The name tf.train.Saver is deprecated. Please use tf.compat.v1.train.Saver instead.\n",
      "\n",
      "WARNING:tensorflow:From C:\\Users\\msi\\AppData\\Local\\Temp/ipykernel_8524/1308873527.py:8: The name tf.trainable_variables is deprecated. Please use tf.compat.v1.trainable_variables instead.\n",
      "\n",
      "loaded ./Models/istd-pretrained-original/lasted_model.ckpt\n",
      "INFO:tensorflow:Restoring parameters from ./Models/istd-pretrained-original/lasted_model.ckpt\n"
     ]
    }
   ],
   "source": [
    "with tf.variable_scope(tf.get_variable_scope()):\n",
    "    input=tf.placeholder(tf.float32,shape=[None,None,None,3])\n",
    "    shadow_free_image=build_aggasatt_joint(input,channel,vgg19_path)\n",
    "\n",
    "sess=tf.Session()\n",
    "sess.run(tf.global_variables_initializer())\n",
    "idtd_ckpt=tf.train.get_checkpoint_state(pretrain_model_path)\n",
    "saver_restore=tf.train.Saver([var for var in tf.trainable_variables()])\n",
    "print('loaded '+ idtd_ckpt.model_checkpoint_path)\n",
    "saver_restore.restore(sess,idtd_ckpt.model_checkpoint_path)"
   ]
  },
  {
   "cell_type": "code",
   "execution_count": 5,
   "metadata": {},
   "outputs": [
    {
     "name": "stdout",
     "output_type": "stream",
     "text": [
      "['./test/test.jpeg']\n"
     ]
    }
   ],
   "source": [
    "import matplotlib.pyplot as plt\n",
    "plt.rcParams[\"figure.figsize\"] = (24,6)\n",
    "\n",
    "imgs = [os.path.join(original,x) for x in os.listdir(original) if '.jpg' in x or '.png' in x or '.jpeg' in x]\n",
    "\n",
    "print(imgs)"
   ]
  },
  {
   "cell_type": "code",
   "execution_count": 6,
   "metadata": {
    "pycharm": {
     "name": "#%%\n"
    }
   },
   "outputs": [
    {
     "name": "stdout",
     "output_type": "stream",
     "text": [
      "Width = 420, Height = 315\n"
     ]
    }
   ],
   "source": [
    "# height = 315\n",
    "height = 402\n",
    "width = int(4 / 3 * height)\n",
    "\n",
    "print(f\"Width = {width}, Height = {height}\")\n",
    "\n",
    "for img_path in imgs:\n",
    "\n",
    "    iminput = cv2.resize(cv2.imread(img_path, 1), (width, height))\n",
    "    # iminput = cv2.resize(cv2.imread(img_path, 1), (1920, 1440))\n",
    "\n",
    "    imoutput = sess.run(shadow_free_image,feed_dict={input:np.expand_dims(iminput/255.,axis=0)})\n",
    "    imoutput = np.uint8(np.squeeze(np.minimum(np.maximum(imoutput[0],0.0),1.0))*255.0)\n",
    "\n",
    "    imname = pathlib.Path(img_path).stem\n",
    "    cv2.imwrite(os.path.join(source, f'{imname}.jpg'), iminput)\n",
    "    cv2.imwrite(os.path.join(target, f'{imname}.jpg'), imoutput)\n",
    "    cv2.waitKey(0)"
   ]
  },
  {
   "cell_type": "code",
   "execution_count": 7,
   "metadata": {
    "pycharm": {
     "name": "#%%\n"
    }
   },
   "outputs": [
    {
     "name": "stdout",
     "output_type": "stream",
     "text": [
      "success\n"
     ]
    }
   ],
   "source": [
    "print(\"success\")"
   ]
  },
  {
   "cell_type": "code",
   "execution_count": 8,
   "metadata": {
    "pycharm": {
     "name": "#%%\n"
    }
   },
   "outputs": [],
   "source": [
    "# images should be in 4:3 ratio\n",
    "# checking possible resolutions\n",
    "#\n",
    "# height = 402\n",
    "# width = 4 / 3 * height\n",
    "#\n",
    "# width"
   ]
  },
  {
   "cell_type": "code",
   "execution_count": 9,
   "metadata": {
    "pycharm": {
     "name": "#%%\n"
    }
   },
   "outputs": [],
   "source": [
    "lower = 828\n",
    "\n",
    "upper = 834\n",
    "# right now original model works with height is 432\n",
    "# my task is to make it work for height = 435 and up with little to no loss to quality"
   ]
  },
  {
   "cell_type": "code",
   "execution_count": 10,
   "metadata": {
    "pycharm": {
     "name": "#%%\n"
    }
   },
   "outputs": [],
   "source": [
    "# img_path = \"E:\\Semester 7 - Moodle 2021\\FYP\\projects\\DHAN\\Dataset\\\\NIC_Dataset\\\\train\\\\train_B\\\\1.jpg\"\n",
    "#\n",
    "# import cv2\n",
    "# import numpy as np\n",
    "#\n",
    "# ###test image\n",
    "# img=cv2.imread(img_path)\n",
    "#\n",
    "# ### splitting b,g,r channels\n",
    "# b,g,r=cv2.split(img)\n",
    "#\n",
    "# ### getting differences between (b,g), (r,g), (b,r) channel pixels\n",
    "# r_g=np.count_nonzero(abs(r-g))\n",
    "# r_b=np.count_nonzero(abs(r-b))\n",
    "# g_b=np.count_nonzero(abs(g-b))\n",
    "#\n",
    "# ### sum of differences\n",
    "# diff_sum=float(r_g+r_b+g_b)\n",
    "#\n",
    "# ### finding ratio of diff_sum with respect to size of image\n",
    "# ratio=diff_sum/img.size\n",
    "#\n",
    "# if ratio>0.005:\n",
    "#     print(\"image is color\")\n",
    "# else:\n",
    "#     print(\"image is greyscale\")\n"
   ]
  }
 ],
 "metadata": {
  "kernelspec": {
   "display_name": "Python 3 (ipykernel)",
   "language": "python",
   "name": "python3"
  },
  "language_info": {
   "codemirror_mode": {
    "name": "ipython",
    "version": 3
   },
   "file_extension": ".py",
   "mimetype": "text/x-python",
   "name": "python",
   "nbconvert_exporter": "python",
   "pygments_lexer": "ipython3",
   "version": "3.7.11"
  }
 },
 "nbformat": 4,
 "nbformat_minor": 4
}