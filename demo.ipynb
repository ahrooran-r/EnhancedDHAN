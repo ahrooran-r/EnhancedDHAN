{
 "cells": [
  {
   "cell_type": "code",
   "execution_count": 1,
   "metadata": {},
   "outputs": [
    {
     "name": "stdout",
     "output_type": "stream",
     "text": [
      "WARNING:tensorflow:\n",
      "The TensorFlow contrib module will not be included in TensorFlow 2.0.\n",
      "For more information, please see:\n",
      "  * https://github.com/tensorflow/community/blob/master/rfcs/20180907-contrib-sunset.md\n",
      "  * https://github.com/tensorflow/addons\n",
      "  * https://github.com/tensorflow/io (for I/O related ops)\n",
      "If you depend on functionality not listed there, please file an issue.\n",
      "\n"
     ]
    }
   ],
   "source": [
    "from __future__ import division\n",
    "\n",
    "import pathlib\n",
    "%matplotlib inline\n",
    "\n",
    "\n",
    "# ignore warning\n",
    "import warnings\n",
    "warnings.filterwarnings('ignore')\n",
    "\n",
    "import os, cv2\n",
    "import tensorflow as tf\n",
    "import numpy as np\n",
    "from networks import build_aggasatt_joint"
   ]
  },
  {
   "cell_type": "code",
   "execution_count": 2,
   "metadata": {
    "pycharm": {
     "name": "#%%\n"
    }
   },
   "outputs": [],
   "source": [
    "# tf.config.experimental.set_visible_devices([], 'GPU')"
   ]
  },
  {
   "cell_type": "code",
   "execution_count": 3,
   "metadata": {
    "pycharm": {
     "name": "#%%\n"
    }
   },
   "outputs": [],
   "source": [
    "# vgg19_path = './Models/imagenet-vgg-verydeep-19.mat'\n",
    "vgg19_path = './Models/imagenet-vgg-verydeep-16.mat'\n",
    "pretrain_model_path = './Models/srdplus-pretrained/'\n",
    "\n",
    "# original = \"./original\"\n",
    "# source = \"./source/\"\n",
    "# target = \"./target/\"\n",
    "\n",
    "original = \"./test/\"\n",
    "source = \"./source/\"\n",
    "target = \"./target/\""
   ]
  },
  {
   "cell_type": "code",
   "execution_count": 4,
   "metadata": {
    "pycharm": {
     "name": "#%%\n"
    }
   },
   "outputs": [
    {
     "name": "stdout",
     "output_type": "stream",
     "text": [
      "WARNING:tensorflow:From C:\\Users\\MSIUSE~1\\AppData\\Local\\Temp/ipykernel_11632/952543688.py:1: The name tf.variable_scope is deprecated. Please use tf.compat.v1.variable_scope instead.\n",
      "\n",
      "WARNING:tensorflow:From C:\\Users\\MSIUSE~1\\AppData\\Local\\Temp/ipykernel_11632/952543688.py:1: The name tf.get_variable_scope is deprecated. Please use tf.compat.v1.get_variable_scope instead.\n",
      "\n",
      "WARNING:tensorflow:From C:\\Users\\MSIUSE~1\\AppData\\Local\\Temp/ipykernel_11632/952543688.py:2: The name tf.placeholder is deprecated. Please use tf.compat.v1.placeholder instead.\n",
      "\n",
      "[i] Hypercolumn ON, building hypercolumn features ... \n",
      "WARNING:tensorflow:From E:\\Semester 7 - Moodle 2021\\FYP\\projects\\DHAN\\networks.py:36: The name tf.nn.avg_pool is deprecated. Please use tf.nn.avg_pool2d instead.\n",
      "\n"
     ]
    },
    {
     "ename": "AttributeError",
     "evalue": "'str' object has no attribute 'size'",
     "output_type": "error",
     "traceback": [
      "\u001B[1;31m---------------------------------------------------------------------------\u001B[0m",
      "\u001B[1;31mAttributeError\u001B[0m                            Traceback (most recent call last)",
      "\u001B[1;32mC:\\Users\\MSIUSE~1\\AppData\\Local\\Temp/ipykernel_11632/952543688.py\u001B[0m in \u001B[0;36m<module>\u001B[1;34m\u001B[0m\n\u001B[0;32m      1\u001B[0m \u001B[1;32mwith\u001B[0m \u001B[0mtf\u001B[0m\u001B[1;33m.\u001B[0m\u001B[0mvariable_scope\u001B[0m\u001B[1;33m(\u001B[0m\u001B[0mtf\u001B[0m\u001B[1;33m.\u001B[0m\u001B[0mget_variable_scope\u001B[0m\u001B[1;33m(\u001B[0m\u001B[1;33m)\u001B[0m\u001B[1;33m)\u001B[0m\u001B[1;33m:\u001B[0m\u001B[1;33m\u001B[0m\u001B[1;33m\u001B[0m\u001B[0m\n\u001B[0;32m      2\u001B[0m     \u001B[0minput\u001B[0m\u001B[1;33m=\u001B[0m\u001B[0mtf\u001B[0m\u001B[1;33m.\u001B[0m\u001B[0mplaceholder\u001B[0m\u001B[1;33m(\u001B[0m\u001B[0mtf\u001B[0m\u001B[1;33m.\u001B[0m\u001B[0mfloat32\u001B[0m\u001B[1;33m,\u001B[0m\u001B[0mshape\u001B[0m\u001B[1;33m=\u001B[0m\u001B[1;33m[\u001B[0m\u001B[1;32mNone\u001B[0m\u001B[1;33m,\u001B[0m\u001B[1;32mNone\u001B[0m\u001B[1;33m,\u001B[0m\u001B[1;32mNone\u001B[0m\u001B[1;33m,\u001B[0m\u001B[1;36m3\u001B[0m\u001B[1;33m]\u001B[0m\u001B[1;33m)\u001B[0m\u001B[1;33m\u001B[0m\u001B[1;33m\u001B[0m\u001B[0m\n\u001B[1;32m----> 3\u001B[1;33m     \u001B[0mshadow_free_image\u001B[0m\u001B[1;33m=\u001B[0m\u001B[0mbuild_aggasatt_joint\u001B[0m\u001B[1;33m(\u001B[0m\u001B[0minput\u001B[0m\u001B[1;33m,\u001B[0m\u001B[1;36m64\u001B[0m\u001B[1;33m,\u001B[0m\u001B[0mvgg19_path\u001B[0m\u001B[1;33m)\u001B[0m\u001B[1;33m\u001B[0m\u001B[1;33m\u001B[0m\u001B[0m\n\u001B[0m\u001B[0;32m      4\u001B[0m \u001B[1;33m\u001B[0m\u001B[0m\n\u001B[0;32m      5\u001B[0m \u001B[0msess\u001B[0m\u001B[1;33m=\u001B[0m\u001B[0mtf\u001B[0m\u001B[1;33m.\u001B[0m\u001B[0mSession\u001B[0m\u001B[1;33m(\u001B[0m\u001B[1;33m)\u001B[0m\u001B[1;33m\u001B[0m\u001B[1;33m\u001B[0m\u001B[0m\n",
      "\u001B[1;32mE:\\Semester 7 - Moodle 2021\\FYP\\projects\\DHAN\\networks.py\u001B[0m in \u001B[0;36mbuild_aggasatt_joint\u001B[1;34m(input, channel, vgg_19_path)\u001B[0m\n\u001B[0;32m    154\u001B[0m \u001B[1;32mdef\u001B[0m \u001B[0mbuild_aggasatt_joint\u001B[0m\u001B[1;33m(\u001B[0m\u001B[0minput\u001B[0m\u001B[1;33m,\u001B[0m \u001B[0mchannel\u001B[0m\u001B[1;33m=\u001B[0m\u001B[1;36m64\u001B[0m\u001B[1;33m,\u001B[0m \u001B[0mvgg_19_path\u001B[0m\u001B[1;33m=\u001B[0m\u001B[1;34m'None'\u001B[0m\u001B[1;33m)\u001B[0m\u001B[1;33m:\u001B[0m\u001B[1;33m\u001B[0m\u001B[1;33m\u001B[0m\u001B[0m\n\u001B[0;32m    155\u001B[0m     \u001B[0mprint\u001B[0m\u001B[1;33m(\u001B[0m\u001B[1;34m\"[i] Hypercolumn ON, building hypercolumn features ... \"\u001B[0m\u001B[1;33m)\u001B[0m\u001B[1;33m\u001B[0m\u001B[1;33m\u001B[0m\u001B[0m\n\u001B[1;32m--> 156\u001B[1;33m     \u001B[0mvgg19_features\u001B[0m \u001B[1;33m=\u001B[0m \u001B[0mbuild_vgg19\u001B[0m\u001B[1;33m(\u001B[0m\u001B[0minput\u001B[0m\u001B[1;33m[\u001B[0m\u001B[1;33m:\u001B[0m\u001B[1;33m,\u001B[0m \u001B[1;33m:\u001B[0m\u001B[1;33m,\u001B[0m \u001B[1;33m:\u001B[0m\u001B[1;33m,\u001B[0m \u001B[1;36m0\u001B[0m\u001B[1;33m:\u001B[0m\u001B[1;36m3\u001B[0m\u001B[1;33m]\u001B[0m \u001B[1;33m*\u001B[0m \u001B[1;36m255.0\u001B[0m\u001B[1;33m,\u001B[0m \u001B[0mvgg_19_path\u001B[0m\u001B[1;33m)\u001B[0m\u001B[1;33m\u001B[0m\u001B[1;33m\u001B[0m\u001B[0m\n\u001B[0m\u001B[0;32m    157\u001B[0m     \u001B[1;32mfor\u001B[0m \u001B[0mlayer_id\u001B[0m \u001B[1;32min\u001B[0m \u001B[0mrange\u001B[0m\u001B[1;33m(\u001B[0m\u001B[1;36m1\u001B[0m\u001B[1;33m,\u001B[0m \u001B[1;36m6\u001B[0m\u001B[1;33m)\u001B[0m\u001B[1;33m:\u001B[0m\u001B[1;33m\u001B[0m\u001B[1;33m\u001B[0m\u001B[0m\n\u001B[0;32m    158\u001B[0m         \u001B[0mvgg19_f\u001B[0m \u001B[1;33m=\u001B[0m \u001B[0mvgg19_features\u001B[0m\u001B[1;33m[\u001B[0m\u001B[1;34m'conv%d_2'\u001B[0m \u001B[1;33m%\u001B[0m \u001B[0mlayer_id\u001B[0m\u001B[1;33m]\u001B[0m\u001B[1;33m\u001B[0m\u001B[1;33m\u001B[0m\u001B[0m\n",
      "\u001B[1;32mE:\\Semester 7 - Moodle 2021\\FYP\\projects\\DHAN\\networks.py\u001B[0m in \u001B[0;36mbuild_vgg19\u001B[1;34m(input, vgg_path, reuse)\u001B[0m\n\u001B[0;32m     99\u001B[0m         \u001B[0mnet\u001B[0m\u001B[1;33m[\u001B[0m\u001B[1;34m'conv3_2'\u001B[0m\u001B[1;33m]\u001B[0m \u001B[1;33m=\u001B[0m \u001B[0mbuild_net\u001B[0m\u001B[1;33m(\u001B[0m\u001B[1;34m'conv'\u001B[0m\u001B[1;33m,\u001B[0m \u001B[0mnet\u001B[0m\u001B[1;33m[\u001B[0m\u001B[1;34m'conv3_1'\u001B[0m\u001B[1;33m]\u001B[0m\u001B[1;33m,\u001B[0m \u001B[0mget_weight_bias\u001B[0m\u001B[1;33m(\u001B[0m\u001B[0mvgg_layers\u001B[0m\u001B[1;33m,\u001B[0m \u001B[1;36m12\u001B[0m\u001B[1;33m)\u001B[0m\u001B[1;33m,\u001B[0m \u001B[0mname\u001B[0m\u001B[1;33m=\u001B[0m\u001B[1;34m'vgg_conv3_2'\u001B[0m\u001B[1;33m)\u001B[0m\u001B[1;33m\u001B[0m\u001B[1;33m\u001B[0m\u001B[0m\n\u001B[0;32m    100\u001B[0m         \u001B[0mnet\u001B[0m\u001B[1;33m[\u001B[0m\u001B[1;34m'conv3_3'\u001B[0m\u001B[1;33m]\u001B[0m \u001B[1;33m=\u001B[0m \u001B[0mbuild_net\u001B[0m\u001B[1;33m(\u001B[0m\u001B[1;34m'conv'\u001B[0m\u001B[1;33m,\u001B[0m \u001B[0mnet\u001B[0m\u001B[1;33m[\u001B[0m\u001B[1;34m'conv3_2'\u001B[0m\u001B[1;33m]\u001B[0m\u001B[1;33m,\u001B[0m \u001B[0mget_weight_bias\u001B[0m\u001B[1;33m(\u001B[0m\u001B[0mvgg_layers\u001B[0m\u001B[1;33m,\u001B[0m \u001B[1;36m14\u001B[0m\u001B[1;33m)\u001B[0m\u001B[1;33m,\u001B[0m \u001B[0mname\u001B[0m\u001B[1;33m=\u001B[0m\u001B[1;34m'vgg_conv3_3'\u001B[0m\u001B[1;33m)\u001B[0m\u001B[1;33m\u001B[0m\u001B[1;33m\u001B[0m\u001B[0m\n\u001B[1;32m--> 101\u001B[1;33m         \u001B[0mnet\u001B[0m\u001B[1;33m[\u001B[0m\u001B[1;34m'conv3_4'\u001B[0m\u001B[1;33m]\u001B[0m \u001B[1;33m=\u001B[0m \u001B[0mbuild_net\u001B[0m\u001B[1;33m(\u001B[0m\u001B[1;34m'conv'\u001B[0m\u001B[1;33m,\u001B[0m \u001B[0mnet\u001B[0m\u001B[1;33m[\u001B[0m\u001B[1;34m'conv3_3'\u001B[0m\u001B[1;33m]\u001B[0m\u001B[1;33m,\u001B[0m \u001B[0mget_weight_bias\u001B[0m\u001B[1;33m(\u001B[0m\u001B[0mvgg_layers\u001B[0m\u001B[1;33m,\u001B[0m \u001B[1;36m16\u001B[0m\u001B[1;33m)\u001B[0m\u001B[1;33m,\u001B[0m \u001B[0mname\u001B[0m\u001B[1;33m=\u001B[0m\u001B[1;34m'vgg_conv3_4'\u001B[0m\u001B[1;33m)\u001B[0m\u001B[1;33m\u001B[0m\u001B[1;33m\u001B[0m\u001B[0m\n\u001B[0m\u001B[0;32m    102\u001B[0m         \u001B[0mnet\u001B[0m\u001B[1;33m[\u001B[0m\u001B[1;34m'pool3'\u001B[0m\u001B[1;33m]\u001B[0m \u001B[1;33m=\u001B[0m \u001B[0mbuild_net\u001B[0m\u001B[1;33m(\u001B[0m\u001B[1;34m'pool'\u001B[0m\u001B[1;33m,\u001B[0m \u001B[0mnet\u001B[0m\u001B[1;33m[\u001B[0m\u001B[1;34m'conv3_4'\u001B[0m\u001B[1;33m]\u001B[0m\u001B[1;33m)\u001B[0m\u001B[1;33m\u001B[0m\u001B[1;33m\u001B[0m\u001B[0m\n\u001B[0;32m    103\u001B[0m         \u001B[0mnet\u001B[0m\u001B[1;33m[\u001B[0m\u001B[1;34m'conv4_1'\u001B[0m\u001B[1;33m]\u001B[0m \u001B[1;33m=\u001B[0m \u001B[0mbuild_net\u001B[0m\u001B[1;33m(\u001B[0m\u001B[1;34m'conv'\u001B[0m\u001B[1;33m,\u001B[0m \u001B[0mnet\u001B[0m\u001B[1;33m[\u001B[0m\u001B[1;34m'pool3'\u001B[0m\u001B[1;33m]\u001B[0m\u001B[1;33m,\u001B[0m \u001B[0mget_weight_bias\u001B[0m\u001B[1;33m(\u001B[0m\u001B[0mvgg_layers\u001B[0m\u001B[1;33m,\u001B[0m \u001B[1;36m19\u001B[0m\u001B[1;33m)\u001B[0m\u001B[1;33m,\u001B[0m \u001B[0mname\u001B[0m\u001B[1;33m=\u001B[0m\u001B[1;34m'vgg_conv4_1'\u001B[0m\u001B[1;33m)\u001B[0m\u001B[1;33m\u001B[0m\u001B[1;33m\u001B[0m\u001B[0m\n",
      "\u001B[1;32mE:\\Semester 7 - Moodle 2021\\FYP\\projects\\DHAN\\networks.py\u001B[0m in \u001B[0;36mget_weight_bias\u001B[1;34m(vgg_layers, i)\u001B[0m\n\u001B[0;32m     41\u001B[0m     \u001B[0mweights\u001B[0m \u001B[1;33m=\u001B[0m \u001B[0mtf\u001B[0m\u001B[1;33m.\u001B[0m\u001B[0mconstant\u001B[0m\u001B[1;33m(\u001B[0m\u001B[0mweights\u001B[0m\u001B[1;33m)\u001B[0m\u001B[1;33m\u001B[0m\u001B[1;33m\u001B[0m\u001B[0m\n\u001B[0;32m     42\u001B[0m     \u001B[0mbias\u001B[0m \u001B[1;33m=\u001B[0m \u001B[0mvgg_layers\u001B[0m\u001B[1;33m[\u001B[0m\u001B[0mi\u001B[0m\u001B[1;33m]\u001B[0m\u001B[1;33m[\u001B[0m\u001B[1;36m0\u001B[0m\u001B[1;33m]\u001B[0m\u001B[1;33m[\u001B[0m\u001B[1;36m0\u001B[0m\u001B[1;33m]\u001B[0m\u001B[1;33m[\u001B[0m\u001B[1;36m2\u001B[0m\u001B[1;33m]\u001B[0m\u001B[1;33m[\u001B[0m\u001B[1;36m0\u001B[0m\u001B[1;33m]\u001B[0m\u001B[1;33m[\u001B[0m\u001B[1;36m1\u001B[0m\u001B[1;33m]\u001B[0m\u001B[1;33m\u001B[0m\u001B[1;33m\u001B[0m\u001B[0m\n\u001B[1;32m---> 43\u001B[1;33m     \u001B[0mbias\u001B[0m \u001B[1;33m=\u001B[0m \u001B[0mtf\u001B[0m\u001B[1;33m.\u001B[0m\u001B[0mconstant\u001B[0m\u001B[1;33m(\u001B[0m\u001B[0mnp\u001B[0m\u001B[1;33m.\u001B[0m\u001B[0mreshape\u001B[0m\u001B[1;33m(\u001B[0m\u001B[0mbias\u001B[0m\u001B[1;33m,\u001B[0m \u001B[1;33m(\u001B[0m\u001B[0mbias\u001B[0m\u001B[1;33m.\u001B[0m\u001B[0msize\u001B[0m\u001B[1;33m)\u001B[0m\u001B[1;33m)\u001B[0m\u001B[1;33m)\u001B[0m\u001B[1;33m\u001B[0m\u001B[1;33m\u001B[0m\u001B[0m\n\u001B[0m\u001B[0;32m     44\u001B[0m     \u001B[1;32mreturn\u001B[0m \u001B[0mweights\u001B[0m\u001B[1;33m,\u001B[0m \u001B[0mbias\u001B[0m\u001B[1;33m\u001B[0m\u001B[1;33m\u001B[0m\u001B[0m\n\u001B[0;32m     45\u001B[0m \u001B[1;33m\u001B[0m\u001B[0m\n",
      "\u001B[1;31mAttributeError\u001B[0m: 'str' object has no attribute 'size'"
     ]
    }
   ],
   "source": [
    "with tf.variable_scope(tf.get_variable_scope()):\n",
    "    input=tf.placeholder(tf.float32,shape=[None,None,None,3])\n",
    "    shadow_free_image=build_aggasatt_joint(input,64,vgg19_path)\n",
    "\n",
    "sess=tf.Session()\n",
    "sess.run(tf.global_variables_initializer())\n",
    "idtd_ckpt=tf.train.get_checkpoint_state(pretrain_model_path)\n",
    "saver_restore=tf.train.Saver([var for var in tf.trainable_variables()])\n",
    "print('loaded '+idtd_ckpt.model_checkpoint_path)\n",
    "saver_restore.restore(sess,idtd_ckpt.model_checkpoint_path)"
   ]
  },
  {
   "cell_type": "code",
   "execution_count": null,
   "metadata": {},
   "outputs": [],
   "source": [
    "import matplotlib.pyplot as plt\n",
    "plt.rcParams[\"figure.figsize\"] = (24,6)\n",
    "\n",
    "imgs = [os.path.join(original,x) for x in os.listdir(original) if '.jpg' in x or '.png' in x]\n",
    "\n",
    "print(imgs)"
   ]
  },
  {
   "cell_type": "code",
   "execution_count": null,
   "metadata": {
    "pycharm": {
     "name": "#%%\n"
    }
   },
   "outputs": [],
   "source": [
    "height = 432\n",
    "width = int(4 / 3 * height)\n",
    "\n",
    "print(f\"Width = {width}, Height = {height}\")\n",
    "\n",
    "for img_path in imgs:\n",
    "\n",
    "    iminput = cv2.resize(cv2.imread(img_path, 1), (width, height))\n",
    "    # iminput = cv2.resize(cv2.imread(img_path, 1), (1920, 1440))\n",
    "\n",
    "    imoutput = sess.run(shadow_free_image,feed_dict={input:np.expand_dims(iminput/255.,axis=0)})\n",
    "    imoutput = np.uint8(np.squeeze(np.minimum(np.maximum(imoutput[0],0.0),1.0))*255.0)\n",
    "\n",
    "    imname = pathlib.Path(img_path).stem\n",
    "    cv2.imwrite(os.path.join(source, f'{imname}.jpg'), iminput)\n",
    "    cv2.imwrite(os.path.join(target, f'{imname}.jpg'), imoutput)\n",
    "    cv2.waitKey(0)"
   ]
  },
  {
   "cell_type": "code",
   "execution_count": null,
   "metadata": {
    "pycharm": {
     "name": "#%%\n"
    }
   },
   "outputs": [],
   "source": [
    "print(\"success\")"
   ]
  },
  {
   "cell_type": "code",
   "execution_count": null,
   "outputs": [],
   "source": [
    "# images should be in 4:3 ratio\n",
    "# checking possible resolutions\n",
    "\n",
    "height = 432\n",
    "width = 4 / 3 * height\n",
    "\n",
    "width"
   ],
   "metadata": {
    "collapsed": false,
    "pycharm": {
     "name": "#%%\n"
    }
   }
  },
  {
   "cell_type": "code",
   "execution_count": null,
   "outputs": [],
   "source": [
    "lower = 432\n",
    "\n",
    "upper = 435\n",
    "# right now model works until height is 435\n",
    "# my task is to make it work for height = 435 and up with little to no loss to quality"
   ],
   "metadata": {
    "collapsed": false,
    "pycharm": {
     "name": "#%%\n"
    }
   }
  },
  {
   "cell_type": "code",
   "execution_count": 5,
   "outputs": [
    {
     "name": "stdout",
     "output_type": "stream",
     "text": [
      "image is greyscale\n"
     ]
    }
   ],
   "source": [
    "img_path = \"E:\\Semester 7 - Moodle 2021\\FYP\\projects\\DHAN\\Dataset\\\\NIC_Dataset\\\\train\\\\train_B\\\\1.jpg\"\n",
    "\n",
    "import cv2\n",
    "import numpy as np\n",
    "\n",
    "###test image\n",
    "img=cv2.imread(img_path)\n",
    "\n",
    "### splitting b,g,r channels\n",
    "b,g,r=cv2.split(img)\n",
    "\n",
    "### getting differences between (b,g), (r,g), (b,r) channel pixels\n",
    "r_g=np.count_nonzero(abs(r-g))\n",
    "r_b=np.count_nonzero(abs(r-b))\n",
    "g_b=np.count_nonzero(abs(g-b))\n",
    "\n",
    "### sum of differences\n",
    "diff_sum=float(r_g+r_b+g_b)\n",
    "\n",
    "### finding ratio of diff_sum with respect to size of image\n",
    "ratio=diff_sum/img.size\n",
    "\n",
    "if ratio>0.005:\n",
    "    print(\"image is color\")\n",
    "else:\n",
    "    print(\"image is greyscale\")\n"
   ],
   "metadata": {
    "collapsed": false,
    "pycharm": {
     "name": "#%%\n"
    }
   }
  }
 ],
 "metadata": {
  "kernelspec": {
   "display_name": "Python 3 (ipykernel)",
   "language": "python",
   "name": "python3"
  },
  "language_info": {
   "codemirror_mode": {
    "name": "ipython",
    "version": 3
   },
   "file_extension": ".py",
   "mimetype": "text/x-python",
   "name": "python",
   "nbconvert_exporter": "python",
   "pygments_lexer": "ipython3",
   "version": "3.7.11"
  }
 },
 "nbformat": 4,
 "nbformat_minor": 4
}