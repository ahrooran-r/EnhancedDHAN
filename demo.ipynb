{
 "cells": [
  {
   "cell_type": "code",
   "execution_count": 1,
   "metadata": {},
   "outputs": [
    {
     "name": "stdout",
     "output_type": "stream",
     "text": [
      "WARNING:tensorflow:\n",
      "The TensorFlow contrib module will not be included in TensorFlow 2.0.\n",
      "For more information, please see:\n",
      "  * https://github.com/tensorflow/community/blob/master/rfcs/20180907-contrib-sunset.md\n",
      "  * https://github.com/tensorflow/addons\n",
      "  * https://github.com/tensorflow/io (for I/O related ops)\n",
      "If you depend on functionality not listed there, please file an issue.\n",
      "\n"
     ]
    }
   ],
   "source": [
    "from __future__ import division\n",
    "\n",
    "import pathlib\n",
    "%matplotlib inline\n",
    "\n",
    "\n",
    "# ignore warning\n",
    "import warnings\n",
    "warnings.filterwarnings('ignore')\n",
    "\n",
    "import os, cv2\n",
    "import tensorflow as tf\n",
    "import numpy as np\n",
    "from networks import build_aggasatt_joint"
   ]
  },
  {
   "cell_type": "code",
   "execution_count": 2,
   "metadata": {
    "pycharm": {
     "name": "#%%\n"
    }
   },
   "outputs": [],
   "source": [
    "# tf.config.experimental.set_visible_devices([], 'GPU')"
   ]
  },
  {
   "cell_type": "code",
   "execution_count": 3,
   "metadata": {
    "pycharm": {
     "name": "#%%\n"
    }
   },
   "outputs": [],
   "source": [
    "vgg19_path = './Models/imagenet-vgg-verydeep-19.mat'\n",
    "pretrain_model_path = './Models/srdplus-pretrained/'\n",
    "\n",
    "# original = \"./original\"\n",
    "# source = \"./source/\"\n",
    "# target = \"./target/\"\n",
    "\n",
    "original = \"./test/\"\n",
    "source = \"./source/\"\n",
    "target = \"./target/\""
   ]
  },
  {
   "cell_type": "code",
   "execution_count": 4,
   "metadata": {
    "pycharm": {
     "name": "#%%\n"
    }
   },
   "outputs": [
    {
     "name": "stdout",
     "output_type": "stream",
     "text": [
      "WARNING:tensorflow:From C:\\Users\\MSIUSE~1\\AppData\\Local\\Temp/ipykernel_3044/952543688.py:1: The name tf.variable_scope is deprecated. Please use tf.compat.v1.variable_scope instead.\n",
      "\n",
      "WARNING:tensorflow:From C:\\Users\\MSIUSE~1\\AppData\\Local\\Temp/ipykernel_3044/952543688.py:1: The name tf.get_variable_scope is deprecated. Please use tf.compat.v1.get_variable_scope instead.\n",
      "\n",
      "WARNING:tensorflow:From C:\\Users\\MSIUSE~1\\AppData\\Local\\Temp/ipykernel_3044/952543688.py:2: The name tf.placeholder is deprecated. Please use tf.compat.v1.placeholder instead.\n",
      "\n",
      "[i] Hypercolumn ON, building hypercolumn features ... \n",
      "WARNING:tensorflow:From E:\\Semester 7 - Moodle 2021\\FYP\\projects\\DHAN\\networks.py:36: The name tf.nn.avg_pool is deprecated. Please use tf.nn.avg_pool2d instead.\n",
      "\n",
      "WARNING:tensorflow:From E:\\Semester 7 - Moodle 2021\\FYP\\projects\\DHAN\\networks.py:159: The name tf.image.resize_bilinear is deprecated. Please use tf.compat.v1.image.resize_bilinear instead.\n",
      "\n",
      "WARNING:tensorflow:From E:\\OpenSoftware\\miniconda\\envs\\shadow_synthesis\\lib\\site-packages\\tensorflow_core\\contrib\\layers\\python\\layers\\layers.py:1057: Layer.apply (from tensorflow.python.keras.engine.base_layer) is deprecated and will be removed in a future version.\n",
      "Instructions for updating:\n",
      "Please use `layer.__call__` method instead.\n",
      "WARNING:tensorflow:From E:\\Semester 7 - Moodle 2021\\FYP\\projects\\DHAN\\networks.py:71: dense (from tensorflow.python.layers.core) is deprecated and will be removed in a future version.\n",
      "Instructions for updating:\n",
      "Use keras.layers.Dense instead.\n",
      "WARNING:tensorflow:From E:\\Semester 7 - Moodle 2021\\FYP\\projects\\DHAN\\networks.py:118: average_pooling2d (from tensorflow.python.layers.pooling) is deprecated and will be removed in a future version.\n",
      "Instructions for updating:\n",
      "Use keras.layers.AveragePooling2D instead.\n",
      "WARNING:tensorflow:From C:\\Users\\MSIUSE~1\\AppData\\Local\\Temp/ipykernel_3044/952543688.py:5: The name tf.Session is deprecated. Please use tf.compat.v1.Session instead.\n",
      "\n",
      "WARNING:tensorflow:From C:\\Users\\MSIUSE~1\\AppData\\Local\\Temp/ipykernel_3044/952543688.py:6: The name tf.global_variables_initializer is deprecated. Please use tf.compat.v1.global_variables_initializer instead.\n",
      "\n",
      "WARNING:tensorflow:From C:\\Users\\MSIUSE~1\\AppData\\Local\\Temp/ipykernel_3044/952543688.py:8: The name tf.train.Saver is deprecated. Please use tf.compat.v1.train.Saver instead.\n",
      "\n",
      "WARNING:tensorflow:From C:\\Users\\MSIUSE~1\\AppData\\Local\\Temp/ipykernel_3044/952543688.py:8: The name tf.trainable_variables is deprecated. Please use tf.compat.v1.trainable_variables instead.\n",
      "\n",
      "loaded ./Models/srdplus-pretrained/model_best.ckpt\n",
      "INFO:tensorflow:Restoring parameters from ./Models/srdplus-pretrained/model_best.ckpt\n"
     ]
    }
   ],
   "source": [
    "with tf.variable_scope(tf.get_variable_scope()):\n",
    "    input=tf.placeholder(tf.float32,shape=[None,None,None,3])\n",
    "    shadow_free_image=build_aggasatt_joint(input,64,vgg19_path)\n",
    "\n",
    "sess=tf.Session()\n",
    "sess.run(tf.global_variables_initializer())\n",
    "idtd_ckpt=tf.train.get_checkpoint_state(pretrain_model_path)\n",
    "saver_restore=tf.train.Saver([var for var in tf.trainable_variables()])\n",
    "print('loaded '+idtd_ckpt.model_checkpoint_path)\n",
    "saver_restore.restore(sess,idtd_ckpt.model_checkpoint_path)"
   ]
  },
  {
   "cell_type": "code",
   "execution_count": 5,
   "metadata": {},
   "outputs": [
    {
     "name": "stdout",
     "output_type": "stream",
     "text": [
      "['./original\\\\1.jpg', './original\\\\10.jpg', './original\\\\100.jpg', './original\\\\101.jpg', './original\\\\102.jpg', './original\\\\103.jpg', './original\\\\104.jpg', './original\\\\105.jpg', './original\\\\106.jpg', './original\\\\107.jpg', './original\\\\108.jpg', './original\\\\109.jpg', './original\\\\11.jpg', './original\\\\110.jpg', './original\\\\111.jpg', './original\\\\112.jpg', './original\\\\113.jpg', './original\\\\114.jpg', './original\\\\115.jpg', './original\\\\116.jpg', './original\\\\117.jpg', './original\\\\118.jpg', './original\\\\119.jpg', './original\\\\12.jpg', './original\\\\120.jpg', './original\\\\121.jpg', './original\\\\122.jpg', './original\\\\123.jpg', './original\\\\124.jpg', './original\\\\125.jpg', './original\\\\126.jpg', './original\\\\127.jpg', './original\\\\128.jpg', './original\\\\129.jpg', './original\\\\13.jpg', './original\\\\130.jpg', './original\\\\131.jpg', './original\\\\132.jpg', './original\\\\133.jpg', './original\\\\134.jpg', './original\\\\135.jpg', './original\\\\136.jpg', './original\\\\137.jpg', './original\\\\138.jpg', './original\\\\139.jpg', './original\\\\14.jpg', './original\\\\140.jpg', './original\\\\141.jpg', './original\\\\142.jpg', './original\\\\143.jpg', './original\\\\144.jpg', './original\\\\145.jpg', './original\\\\146.jpg', './original\\\\147.jpg', './original\\\\148.jpg', './original\\\\149.jpg', './original\\\\15.jpg', './original\\\\150.jpg', './original\\\\151.jpg', './original\\\\152.jpg', './original\\\\153.jpg', './original\\\\154.jpg', './original\\\\155.jpg', './original\\\\156.jpg', './original\\\\157.jpg', './original\\\\158.jpg', './original\\\\159.jpg', './original\\\\16.jpg', './original\\\\160.jpg', './original\\\\161.jpg', './original\\\\162.jpg', './original\\\\163.jpg', './original\\\\164.jpg', './original\\\\165.jpg', './original\\\\166.jpg', './original\\\\167.jpg', './original\\\\168.jpg', './original\\\\169.jpg', './original\\\\17.jpg', './original\\\\170.jpg', './original\\\\171.jpg', './original\\\\172.jpg', './original\\\\173.jpg', './original\\\\174.jpg', './original\\\\175.jpg', './original\\\\176.jpg', './original\\\\177.jpg', './original\\\\178.jpg', './original\\\\179.jpg', './original\\\\18.jpg', './original\\\\180.jpg', './original\\\\181.jpg', './original\\\\19.jpg', './original\\\\2.jpg', './original\\\\20.jpg', './original\\\\21.jpg', './original\\\\22.jpg', './original\\\\23.jpg', './original\\\\24.jpg', './original\\\\25.jpg', './original\\\\26.jpg', './original\\\\27.jpg', './original\\\\28.jpg', './original\\\\29.jpg', './original\\\\3.jpg', './original\\\\30.jpg', './original\\\\31.jpg', './original\\\\32.jpg', './original\\\\33.jpg', './original\\\\34.jpg', './original\\\\35.jpg', './original\\\\36.jpg', './original\\\\37.jpg', './original\\\\38.jpg', './original\\\\39.jpg', './original\\\\4.jpg', './original\\\\40.jpg', './original\\\\41.jpg', './original\\\\42.jpg', './original\\\\43.jpg', './original\\\\44.jpg', './original\\\\45.jpg', './original\\\\46.jpg', './original\\\\47.jpg', './original\\\\48.jpg', './original\\\\49.jpg', './original\\\\5.jpg', './original\\\\50.jpg', './original\\\\51.jpg', './original\\\\52.jpg', './original\\\\53.jpg', './original\\\\54.jpg', './original\\\\55.jpg', './original\\\\56.jpg', './original\\\\57.jpg', './original\\\\58.jpg', './original\\\\59.jpg', './original\\\\6.jpg', './original\\\\60.jpg', './original\\\\61.jpg', './original\\\\62.jpg', './original\\\\63.jpg', './original\\\\64.jpg', './original\\\\65.jpg', './original\\\\66.jpg', './original\\\\67.jpg', './original\\\\68.jpg', './original\\\\69.jpg', './original\\\\7.jpg', './original\\\\70.jpg', './original\\\\71.jpg', './original\\\\72.jpg', './original\\\\73.jpg', './original\\\\74.jpg', './original\\\\75.jpg', './original\\\\76.jpg', './original\\\\77.jpg', './original\\\\78.jpg', './original\\\\79.jpg', './original\\\\8.jpg', './original\\\\80.jpg', './original\\\\81.jpg', './original\\\\82.jpg', './original\\\\83.jpg', './original\\\\84.jpg', './original\\\\85.jpg', './original\\\\86.jpg', './original\\\\87.jpg', './original\\\\88.jpg', './original\\\\89.jpg', './original\\\\9.jpg', './original\\\\90.jpg', './original\\\\91.jpg', './original\\\\92.jpg', './original\\\\93.jpg', './original\\\\94.jpg', './original\\\\95.jpg', './original\\\\96.jpg', './original\\\\97.jpg', './original\\\\98.jpg', './original\\\\99.jpg']\n"
     ]
    }
   ],
   "source": [
    "import matplotlib.pyplot as plt\n",
    "plt.rcParams[\"figure.figsize\"] = (24,6)\n",
    "\n",
    "imgs = [os.path.join(original,x) for x in os.listdir(original) if '.jpg' in x or '.png' in x]\n",
    "\n",
    "print(imgs)"
   ]
  },
  {
   "cell_type": "code",
   "execution_count": null,
   "metadata": {
    "pycharm": {
     "name": "#%%\n",
     "is_executing": true
    }
   },
   "outputs": [],
   "source": [
    "for img_path in imgs:\n",
    "\n",
    "    # iminput = cv2.resize(cv2.imread(img_path, 1), (468, 351))\n",
    "    iminput = cv2.resize(cv2.imread(img_path, 1), (1020, 1440))\n",
    "\n",
    "    imoutput = sess.run(shadow_free_image,feed_dict={input:np.expand_dims(iminput/255.,axis=0)})\n",
    "    imoutput = np.uint8(np.squeeze(np.minimum(np.maximum(imoutput[0],0.0),1.0))*255.0)\n",
    "\n",
    "    imname = pathlib.Path(img_path).stem\n",
    "    cv2.imwrite(os.path.join(source, f'{imname}.jpg'), iminput)\n",
    "    cv2.imwrite(os.path.join(target, f'{imname}.jpg'), imoutput)\n",
    "    cv2.waitKey(0)"
   ]
  },
  {
   "cell_type": "code",
   "execution_count": null,
   "metadata": {
    "pycharm": {
     "name": "#%%\n",
     "is_executing": true
    }
   },
   "outputs": [],
   "source": [
    "print(\"success\")\n"
   ]
  }
 ],
 "metadata": {
  "kernelspec": {
   "display_name": "Python 3 (ipykernel)",
   "language": "python",
   "name": "python3"
  },
  "language_info": {
   "codemirror_mode": {
    "name": "ipython",
    "version": 3
   },
   "file_extension": ".py",
   "mimetype": "text/x-python",
   "name": "python",
   "nbconvert_exporter": "python",
   "pygments_lexer": "ipython3",
   "version": "3.7.11"
  }
 },
 "nbformat": 4,
 "nbformat_minor": 4
}